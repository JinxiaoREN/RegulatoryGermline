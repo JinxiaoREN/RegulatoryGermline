{
 "cells": [
  {
   "cell_type": "code",
   "execution_count": 19,
   "metadata": {},
   "outputs": [
    {
     "data": {
      "text/html": [
       "<style>.container { width:100% !important; }</style>"
      ],
      "text/plain": [
       "<IPython.core.display.HTML object>"
      ]
     },
     "metadata": {},
     "output_type": "display_data"
    }
   ],
   "source": [
    "import pandas as pd\n",
    "import seaborn as sns\n",
    "import matplotlib as mpl\n",
    "%matplotlib inline\n",
    "from matplotlib import pylab as plt\n",
    "from IPython.core.display import display, HTML\n",
    "display(HTML(\"<style>.container { width:100% !important; }</style>\"))\n",
    "import numpy as np\n",
    "import vcf"
   ]
  },
  {
   "cell_type": "code",
   "execution_count": 20,
   "metadata": {},
   "outputs": [],
   "source": [
    "dv = vcf.Reader(filename='TCGA-44-4112-10A-01D-A46W-08.HighPass.deepvariant.vcf.gz')\n",
    "lab = vcf.Reader(filename='TCGA-44-4112-10A-01D-A46W-08.merged.vcf.gz')"
   ]
  },
  {
   "cell_type": "code",
   "execution_count": 21,
   "metadata": {},
   "outputs": [],
   "source": [
    "record = next(dv)"
   ]
  },
  {
   "cell_type": "code",
   "execution_count": 25,
   "metadata": {},
   "outputs": [
    {
     "name": "stdout",
     "output_type": "stream",
     "text": [
      "1\n",
      "10146\n",
      "None\n",
      "AC\n",
      "[A]\n",
      "7\n",
      "[]\n",
      "{}\n",
      "GT:GQ:DP:AD:VAF:PL\n",
      "[Call(sample=TCGA-44-4112-10A-01D-A46W-08, CallData(GT=0/1, GQ=6, DP=27, AD=[22, 5], VAF=0.185185, PL=[5, 0, 14]))]\n",
      "<bound method _Record.genotype of <vcf.model._Record object at 0x7f7629c88780>>\n"
     ]
    }
   ],
   "source": [
    "print(record.CHROM, record.POS, record.ID, record.REF, record.ALT, record.QUAL, record.FILTER, record.INFO, record.FORMAT, record.samples, record.genotype, sep=\"\\n\")"
   ]
  },
  {
   "cell_type": "code",
   "execution_count": 23,
   "metadata": {},
   "outputs": [],
   "source": [
    "record1 = next(lab)"
   ]
  },
  {
   "cell_type": "code",
   "execution_count": 26,
   "metadata": {},
   "outputs": [
    {
     "name": "stdout",
     "output_type": "stream",
     "text": [
      "1\n",
      "10257\n",
      "None\n",
      "A\n",
      "[C]\n",
      "None\n",
      "[]\n",
      "{'AC': [1], 'ADP': 16, 'AF': [0.5], 'AN': 2, 'HET': 1, 'HOM': 0, 'NC': 0, 'WT': 0, 'set': 'vsnp'}\n",
      "GT:ABQ:AD:ADF:ADR:DP:FREQ:GQ:PVAL:RBQ:RD:RDF:RDR:SDP\n",
      "[Call(sample=Sample1, CallData(GT=0/1, ABQ=26, AD=5, ADF=4, ADR=1, DP=16, FREQ=31.25%, GQ=16, PVAL=2.1691E-2, RBQ=28, RD=11, RDF=9, RDR=2, SDP=16)), Call(sample=TCGA-44-4112-10A-01D-A46W-08, CallData(GT=./., ABQ=None, AD=None, ADF=None, ADR=None, DP=None, FREQ=None, GQ=None, PVAL=None, RBQ=None, RD=None, RDF=None, RDR=None, SDP=None))]\n",
      "<bound method _Record.genotype of <vcf.model._Record object at 0x7f7629c9b2b0>>\n"
     ]
    }
   ],
   "source": [
    "print(record1.CHROM, record1.POS, record1.ID, record1.REF, record1.ALT, record1.QUAL, record1.FILTER, record1.INFO, record1.FORMAT, record1.samples, record1.genotype, sep=\"\\n\")"
   ]
  },
  {
   "cell_type": "code",
   "execution_count": null,
   "metadata": {},
   "outputs": [],
   "source": []
  }
 ],
 "metadata": {
  "kernelspec": {
   "display_name": "Python 3",
   "language": "python",
   "name": "python3"
  },
  "language_info": {
   "codemirror_mode": {
    "name": "ipython",
    "version": 3
   },
   "file_extension": ".py",
   "mimetype": "text/x-python",
   "name": "python",
   "nbconvert_exporter": "python",
   "pygments_lexer": "ipython3",
   "version": "3.6.3"
  }
 },
 "nbformat": 4,
 "nbformat_minor": 2
}
